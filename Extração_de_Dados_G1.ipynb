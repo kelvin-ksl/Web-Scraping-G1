{
 "cells": [
  {
   "cell_type": "code",
   "execution_count": 1,
   "metadata": {
    "colab": {
     "base_uri": "https://localhost:8080/"
    },
    "id": "KriQGQhZ7sMH",
    "outputId": "8c3a6564-d224-4e8b-eac8-4bf034febb37"
   },
   "outputs": [
    {
     "name": "stdout",
     "output_type": "stream",
     "text": [
      "Status code: 200\n"
     ]
    }
   ],
   "source": [
    "'''\n",
    "pip install openpyxl\n",
    "pip install requests\n",
    "pip install bs4\n",
    "''' #instala a biblioteca request \n",
    "\n",
    "import requests\n",
    "\n",
    "coleta = requests.get('https://g1.globo.com/')\n",
    "\n",
    "print('Status code:', coleta.status_code)"
   ]
  },
  {
   "cell_type": "code",
   "execution_count": 18,
   "metadata": {
    "id": "7AKnejpU7uNh"
   },
   "outputs": [
    {
     "name": "stdout",
     "output_type": "stream",
     "text": [
      "Digite o numero de paginas que deseja extrair: 100\n"
     ]
    }
   ],
   "source": [
    "#import requests\n",
    "from bs4 import BeautifulSoup\n",
    "import pandas as pd\n",
    "#Importa bibliotecas\n",
    "\n",
    "lista_noticias = []\n",
    "\n",
    "news = int(input(\"Digite o numero de paginas que deseja extrair: \"))\n",
    "\n",
    "for n in range (1,news,1):\n",
    "    url = requests.get(\"https://g1.globo.com/index/feed/pagina-\"+ str(n) + \".ghtml\") #Realizada a coleta do site\n",
    "    \n",
    "    contem = url.content\n",
    "    \n",
    "    site = BeautifulSoup(contem, 'html.parser')\n",
    "    \n",
    "    noticias = site.findAll('div', attrs={'class': 'feed-post-body'})\n",
    "    \n",
    "    for noticia in noticias:\n",
    "        titulo = noticia.find('a', attrs={'class': 'feed-post-link'}) #coleta ao titulo\n",
    "        subtitulo = noticia.find('div', attrs={'class': 'feed-post-body-resumo'}) #coleta o subtitulo\n",
    "        tema = noticia.find('span', attrs={'class': 'feed-post-header-chapeu'}) #coleta o tema\n",
    "        tempo_postagem = noticia.find('div', attrs={'class': 'feed-post-metadata'}) #coleta o tempo de postagem\n",
    "        link = noticia.find('a', attrs={'class': 'feed-post-link'}) #coleta o link\n",
    "\n",
    "        if (subtitulo and tema):\n",
    "            lista_noticias.append([titulo.text, subtitulo.text, tema.text, tempo_postagem.text, link['href']])\n",
    "        elif (subtitulo):\n",
    "            lista_noticias.append([titulo.text, subtitulo.text, \"\", tempo_postagem.text, link['href']])\n",
    "        elif (tema):\n",
    "            lista_noticias.append([titulo.text, \"\", tema.text, tempo_postagem.text, link['href']])\n",
    "        else:\n",
    "            lista_noticias.append([titulo.text, \"\", \"\", tempo_postagem.text, link['href']])\n"
   ]
  },
  {
   "cell_type": "code",
   "execution_count": 19,
   "metadata": {
    "id": "L78T4nKZ72tM"
   },
   "outputs": [],
   "source": [
    "df = pd.DataFrame(lista_noticias, columns=['Título','Subtítulo', 'Tema', 'Tempo de Postagem', 'Link da Postagem'])\n",
    "            \n",
    "df.fillna(value = \"\", inplace = True) \n",
    "\n",
    "df.to_excel('Noticias_G1.xlsx', index=False)\n",
    "\n",
    "df.to_csv('Noticias_G1.csv', index=False)"
   ]
  },
  {
   "cell_type": "code",
   "execution_count": 20,
   "metadata": {
    "colab": {
     "base_uri": "https://localhost:8080/",
     "height": 520
    },
    "id": "UGpi7DTWHao-",
    "outputId": "207d737c-b70e-4feb-9143-19a6772e8472"
   },
   "outputs": [
    {
     "data": {
      "text/html": [
       "<div>\n",
       "<style scoped>\n",
       "    .dataframe tbody tr th:only-of-type {\n",
       "        vertical-align: middle;\n",
       "    }\n",
       "\n",
       "    .dataframe tbody tr th {\n",
       "        vertical-align: top;\n",
       "    }\n",
       "\n",
       "    .dataframe thead th {\n",
       "        text-align: right;\n",
       "    }\n",
       "</style>\n",
       "<table border=\"1\" class=\"dataframe\">\n",
       "  <thead>\n",
       "    <tr style=\"text-align: right;\">\n",
       "      <th></th>\n",
       "      <th>Título</th>\n",
       "      <th>Subtítulo</th>\n",
       "      <th>Tema</th>\n",
       "      <th>Tempo de Postagem</th>\n",
       "      <th>Link da Postagem</th>\n",
       "    </tr>\n",
       "  </thead>\n",
       "  <tbody>\n",
       "    <tr>\n",
       "      <th>0</th>\n",
       "      <td>Polarização, venda da Petrobras, fome no Brasi...</td>\n",
       "      <td></td>\n",
       "      <td></td>\n",
       "      <td>Há 11 minutos O Assunto</td>\n",
       "      <td>https://g1.globo.com/podcast/o-assunto/ao-vivo...</td>\n",
       "    </tr>\n",
       "    <tr>\n",
       "      <th>1</th>\n",
       "      <td>Documento enviado ao MPF em março lista crimes...</td>\n",
       "      <td></td>\n",
       "      <td>Blog da Andréia Sadi</td>\n",
       "      <td>Há 2 horas Estúdio i</td>\n",
       "      <td>https://g1.globo.com/politica/blog/andreia-sad...</td>\n",
       "    </tr>\n",
       "    <tr>\n",
       "      <th>2</th>\n",
       "      <td>Encontrado submerso, barco de Dom e Bruno é le...</td>\n",
       "      <td></td>\n",
       "      <td>Assassinados na Amazônia</td>\n",
       "      <td>Há 3 horas Blog da Andréia Sadi</td>\n",
       "      <td>https://g1.globo.com/am/amazonas/noticia/2022/...</td>\n",
       "    </tr>\n",
       "    <tr>\n",
       "      <th>3</th>\n",
       "      <td>Sob pressão do governo, Petrobras terá comando...</td>\n",
       "      <td></td>\n",
       "      <td>Aumento dos combustíveis</td>\n",
       "      <td>Há 4 horas Economia</td>\n",
       "      <td>https://g1.globo.com/economia/noticia/2022/06/...</td>\n",
       "    </tr>\n",
       "    <tr>\n",
       "      <th>4</th>\n",
       "      <td>Governo Bolsonaro terá 4º presidente da Petrob...</td>\n",
       "      <td></td>\n",
       "      <td>Mudanças em sequência</td>\n",
       "      <td>Há 5 horas Economia</td>\n",
       "      <td>https://g1.globo.com/economia/noticia/2022/06/...</td>\n",
       "    </tr>\n",
       "    <tr>\n",
       "      <th>...</th>\n",
       "      <td>...</td>\n",
       "      <td>...</td>\n",
       "      <td>...</td>\n",
       "      <td>...</td>\n",
       "      <td>...</td>\n",
       "    </tr>\n",
       "    <tr>\n",
       "      <th>877</th>\n",
       "      <td>O ataque brutal a mulheres em restaurante que ...</td>\n",
       "      <td>Vídeo de um ataque brutal contra mulheres por ...</td>\n",
       "      <td></td>\n",
       "      <td>Há 1 semana Mundo</td>\n",
       "      <td>https://g1.globo.com/mundo/noticia/2022/06/13/...</td>\n",
       "    </tr>\n",
       "    <tr>\n",
       "      <th>878</th>\n",
       "      <td>Casal de hipopótamos fica noivo no Dia dos Nam...</td>\n",
       "      <td>Tim e Bocão tiveram brunch com melancia e deco...</td>\n",
       "      <td></td>\n",
       "      <td>Há 1 semana Rio de Janeiro</td>\n",
       "      <td>https://g1.globo.com/rj/rio-de-janeiro/noticia...</td>\n",
       "    </tr>\n",
       "    <tr>\n",
       "      <th>879</th>\n",
       "      <td>VÍDEO: mulher é levada por criminosos em assal...</td>\n",
       "      <td>Crime aconteceu na Estrada do Sacarrão. 'Eu se...</td>\n",
       "      <td></td>\n",
       "      <td>Há 1 semana Rio de Janeiro</td>\n",
       "      <td>https://g1.globo.com/rj/rio-de-janeiro/noticia...</td>\n",
       "    </tr>\n",
       "    <tr>\n",
       "      <th>880</th>\n",
       "      <td>Roubo a casa termina com perseguição policial ...</td>\n",
       "      <td>Testemunha contou ter ouvido ao menos seis dis...</td>\n",
       "      <td></td>\n",
       "      <td>Há 1 semana São Paulo</td>\n",
       "      <td>https://g1.globo.com/sp/sao-paulo/noticia/2022...</td>\n",
       "    </tr>\n",
       "    <tr>\n",
       "      <th>881</th>\n",
       "      <td>Foi demitido ou pediu demissão? Conheça seus d...</td>\n",
       "      <td>Entenda como funcionam todas as modalidades de...</td>\n",
       "      <td></td>\n",
       "      <td>Há 1 semana Trabalho e Carreira</td>\n",
       "      <td>https://g1.globo.com/trabalho-e-carreira/notic...</td>\n",
       "    </tr>\n",
       "  </tbody>\n",
       "</table>\n",
       "<p>882 rows × 5 columns</p>\n",
       "</div>"
      ],
      "text/plain": [
       "                                                Título  \\\n",
       "0    Polarização, venda da Petrobras, fome no Brasi...   \n",
       "1    Documento enviado ao MPF em março lista crimes...   \n",
       "2    Encontrado submerso, barco de Dom e Bruno é le...   \n",
       "3    Sob pressão do governo, Petrobras terá comando...   \n",
       "4    Governo Bolsonaro terá 4º presidente da Petrob...   \n",
       "..                                                 ...   \n",
       "877  O ataque brutal a mulheres em restaurante que ...   \n",
       "878  Casal de hipopótamos fica noivo no Dia dos Nam...   \n",
       "879  VÍDEO: mulher é levada por criminosos em assal...   \n",
       "880  Roubo a casa termina com perseguição policial ...   \n",
       "881  Foi demitido ou pediu demissão? Conheça seus d...   \n",
       "\n",
       "                                             Subtítulo  \\\n",
       "0                                                        \n",
       "1                                                        \n",
       "2                                                        \n",
       "3                                                        \n",
       "4                                                        \n",
       "..                                                 ...   \n",
       "877  Vídeo de um ataque brutal contra mulheres por ...   \n",
       "878  Tim e Bocão tiveram brunch com melancia e deco...   \n",
       "879  Crime aconteceu na Estrada do Sacarrão. 'Eu se...   \n",
       "880  Testemunha contou ter ouvido ao menos seis dis...   \n",
       "881  Entenda como funcionam todas as modalidades de...   \n",
       "\n",
       "                         Tema                 Tempo de Postagem  \\\n",
       "0                                      Há 11 minutos O Assunto    \n",
       "1        Blog da Andréia Sadi             Há 2 horas Estúdio i    \n",
       "2    Assassinados na Amazônia  Há 3 horas Blog da Andréia Sadi    \n",
       "3    Aumento dos combustíveis              Há 4 horas Economia    \n",
       "4       Mudanças em sequência              Há 5 horas Economia    \n",
       "..                        ...                               ...   \n",
       "877                                          Há 1 semana Mundo    \n",
       "878                                 Há 1 semana Rio de Janeiro    \n",
       "879                                 Há 1 semana Rio de Janeiro    \n",
       "880                                      Há 1 semana São Paulo    \n",
       "881                            Há 1 semana Trabalho e Carreira    \n",
       "\n",
       "                                      Link da Postagem  \n",
       "0    https://g1.globo.com/podcast/o-assunto/ao-vivo...  \n",
       "1    https://g1.globo.com/politica/blog/andreia-sad...  \n",
       "2    https://g1.globo.com/am/amazonas/noticia/2022/...  \n",
       "3    https://g1.globo.com/economia/noticia/2022/06/...  \n",
       "4    https://g1.globo.com/economia/noticia/2022/06/...  \n",
       "..                                                 ...  \n",
       "877  https://g1.globo.com/mundo/noticia/2022/06/13/...  \n",
       "878  https://g1.globo.com/rj/rio-de-janeiro/noticia...  \n",
       "879  https://g1.globo.com/rj/rio-de-janeiro/noticia...  \n",
       "880  https://g1.globo.com/sp/sao-paulo/noticia/2022...  \n",
       "881  https://g1.globo.com/trabalho-e-carreira/notic...  \n",
       "\n",
       "[882 rows x 5 columns]"
      ]
     },
     "execution_count": 20,
     "metadata": {},
     "output_type": "execute_result"
    }
   ],
   "source": [
    "df"
   ]
  },
  {
   "cell_type": "code",
   "execution_count": null,
   "metadata": {},
   "outputs": [],
   "source": []
  }
 ],
 "metadata": {
  "colab": {
   "collapsed_sections": [],
   "name": "Extração_de_Dados_Quase.ipynb",
   "provenance": []
  },
  "kernelspec": {
   "display_name": "Python 3 (ipykernel)",
   "language": "python",
   "name": "python3"
  },
  "language_info": {
   "codemirror_mode": {
    "name": "ipython",
    "version": 3
   },
   "file_extension": ".py",
   "mimetype": "text/x-python",
   "name": "python",
   "nbconvert_exporter": "python",
   "pygments_lexer": "ipython3",
   "version": "3.9.12"
  }
 },
 "nbformat": 4,
 "nbformat_minor": 1
}
